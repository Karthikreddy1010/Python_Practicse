{
 "cells": [
  {
   "cell_type": "code",
   "execution_count": 1,
   "id": "fb4f0c63",
   "metadata": {},
   "outputs": [
    {
     "name": "stdout",
     "output_type": "stream",
     "text": [
      "abcd\n"
     ]
    }
   ],
   "source": [
    "list1=['a','b','c','d']\n",
    "\n",
    "re=''.join(list1)\n",
    "print(re)"
   ]
  },
  {
   "cell_type": "code",
   "execution_count": 2,
   "id": "2373b0e3",
   "metadata": {},
   "outputs": [
    {
     "name": "stdout",
     "output_type": "stream",
     "text": [
      "abcd\n"
     ]
    }
   ],
   "source": [
    "result=''\n",
    "for char in list1:\n",
    "    result+=char\n",
    "print(result)"
   ]
  },
  {
   "cell_type": "code",
   "execution_count": 9,
   "id": "7ada7d69",
   "metadata": {},
   "outputs": [
    {
     "name": "stdout",
     "output_type": "stream",
     "text": [
      "Area of triangle: 15.0\n"
     ]
    }
   ],
   "source": [
    "base=5\n",
    "height=6\n",
    "area=0.5 * base *height\n",
    "print(\"Area of triangle:\",area)"
   ]
  },
  {
   "cell_type": "markdown",
   "id": "3b79a276",
   "metadata": {},
   "source": [
    "## write a python program based on angle to identify acute , obtuse, right "
   ]
  },
  {
   "cell_type": "code",
   "execution_count": 15,
   "id": "f1408528",
   "metadata": {},
   "outputs": [
    {
     "name": "stdout",
     "output_type": "stream",
     "text": [
      "80 Acute angle\n"
     ]
    }
   ],
   "source": [
    "angle=80\n",
    "\n",
    "if angle==90:\n",
    "    print(angle,\"Right Angle\")\n",
    "elif angle>90 and angle<180:\n",
    "    print(angle,\"Obtuse angle\")\n",
    "elif angle <90:\n",
    "    print(angle,\"Acute angle\")"
   ]
  },
  {
   "cell_type": "code",
   "execution_count": 16,
   "id": "fe6df008",
   "metadata": {},
   "outputs": [
    {
     "name": "stdout",
     "output_type": "stream",
     "text": [
      "Enter a angle1:45\n",
      "Enter a angle2:56\n",
      "Enter a angle3:72\n",
      "Acute angle\n"
     ]
    }
   ],
   "source": [
    "angle1=int(input(\"Enter a angle1:\"))\n",
    "angle2=int(input(\"Enter a angle2:\"))\n",
    "angle3=int(input(\"Enter a angle3:\"))\n",
    "\n",
    "if angle1>0 and angle1<90 and angle2>0 and angle2<90 and angle3>0 and angle3<90:\n",
    "    print(\"Acute angle\")\n",
    "elif angle1>90 and angle1<180 and angle2>90 and angle2<180 and angle3>90 and angle3<180:\n",
    "    print(\"Obtuse angle\")\n",
    "    \n",
    "elif angle1==90 and angle2==90 and angle==90:\n",
    "    print(\"Right angle\")\n",
    "else:\n",
    "    print(\" \")\n",
    "\n",
    "    "
   ]
  },
  {
   "cell_type": "markdown",
   "id": "1faa1ea4",
   "metadata": {},
   "source": [
    "### create a class to represent a basic calculator with add,sub,multiply and divide method"
   ]
  },
  {
   "cell_type": "code",
   "execution_count": 37,
   "id": "718f8999",
   "metadata": {},
   "outputs": [
    {
     "name": "stdout",
     "output_type": "stream",
     "text": [
      "Enter a first number:5\n",
      "Enter a second number:25\n",
      "30\n",
      "-20\n",
      "125\n",
      "0.2\n"
     ]
    }
   ],
   "source": [
    "class claculator:\n",
    "    \n",
    "    def __init__(self,a,b):\n",
    "        \n",
    "        self.a=a\n",
    "        self.b=b\n",
    "        print(\"First number:\",self.a)\n",
    "        print(\"Second number:\",self.b)\n",
    "        \n",
    "    def add(self):\n",
    "        \n",
    "        ad=self.a + self.b\n",
    "        print(\"Addition of two numbers:\",ad)\n",
    "        \n",
    "    def sub(self):\n",
    "        \n",
    "        su=self.a - self.b\n",
    "        print(\"Subtraction of two numbers:\",su)\n",
    "        \n",
    "    def mul(self):\n",
    "        \n",
    "        mu=self.a * self.b\n",
    "        print(\"Multiply of two numbers:\",mu)\n",
    "        \n",
    "    def divide(self):\n",
    "        \n",
    "        di=self.a / self.b\n",
    "        print(\"Divide of two numbers:\",di)\n",
    "        \n",
    "        \n",
    "a=int(input(\"Enter a first number:\"))\n",
    "b=int(input(\"Enter a second number:\"))\n",
    "\n",
    "calc=calculator(a,b)\n",
    "\n",
    "calc.add()\n",
    "\n",
    "calc.sub()\n",
    "calc.mul()\n",
    "calc.divide()"
   ]
  },
  {
   "cell_type": "markdown",
   "id": "756a88a9",
   "metadata": {},
   "source": [
    "### create a class to represent a movie with attributes like title,director,rating\n"
   ]
  },
  {
   "cell_type": "code",
   "execution_count": 33,
   "id": "e951952d",
   "metadata": {},
   "outputs": [
    {
     "name": "stdout",
     "output_type": "stream",
     "text": [
      "Enter a movie title:John Wick\n",
      "Enter a movie director:Anjelica Huston\n",
      "Enter a movie rating:4.5\n",
      "Title of a movie: John Wick\n",
      "Movie director: Anjelica Huston\n",
      "Movie rating: 4.5\n"
     ]
    }
   ],
   "source": [
    "class movies:\n",
    "    def __init__(self,title,director,rating):\n",
    "        \n",
    "        self.title=title\n",
    "        self.director=director\n",
    "        self.rating=rating\n",
    "        print(\"Title of a movie:\",self.title)\n",
    "        print(\"Movie director:\",self.director)\n",
    "        print(\"Movie rating:\",self.rating)\n",
    "        \n",
    "title=input(\"Enter a movie title:\")\n",
    "director=input(\"Enter a movie director:\")\n",
    "rating=float(input(\"Enter a movie rating:\"))\n",
    "\n",
    "mo=movies(title,director,rating)"
   ]
  },
  {
   "cell_type": "markdown",
   "id": "6458e616",
   "metadata": {},
   "source": [
    "### implement a class hierarchy to represent different types of vehicles (car,bike) with their own attributes and methods"
   ]
  },
  {
   "cell_type": "code",
   "execution_count": 2,
   "id": "d2a619e3",
   "metadata": {},
   "outputs": [
    {
     "name": "stdout",
     "output_type": "stream",
     "text": [
      "Details of car:\n",
      "Enter a model of a car:Ford\n",
      "Enter a color of a car:white\n",
      "Enter a price of car:1200000\n",
      "Enter a maufacture year of car:2022\n",
      "Details of bike:\n",
      "Enter a model of a bike:BMW\n",
      "Enter a color of a bike:green\n",
      "Enter a price of bike:600000\n",
      "Enter a maufacture year of bike:2019\n",
      "Model of a car: BMW\n",
      "Color of a car: green\n",
      "price of a car: 600000\n",
      "manufacture year of a car: 2019\n",
      "Model of a bike: BMW\n",
      "Color of a bike: green\n",
      "price of a bike: 600000\n",
      "manufacture year of a bike: 2019\n"
     ]
    }
   ],
   "source": [
    "class vehicles:\n",
    "    \n",
    "    def __init__(self,model,color,price,manfacture_year):\n",
    "        \n",
    "        self.model=model\n",
    "        self.color=color\n",
    "        self.price=price\n",
    "        self.manfacture_year=manfacture_year\n",
    "        \n",
    "class car(vehicles):\n",
    "    \n",
    "    def cars(self):\n",
    "        print(\"Model of a car:\",self.model)\n",
    "        print(\"Color of a car:\",self.color)\n",
    "        print(\"price of a car:\",self.price)\n",
    "        print(\"manufacture year of a car:\",self.manfacture_year)\n",
    "        \n",
    "class bike(vehicles):\n",
    "    \n",
    "    def bikes(self):\n",
    "        print(\"Model of a bike:\",self.model)\n",
    "        print(\"Color of a bike:\",self.color)\n",
    "        print(\"price of a bike:\",self.price)\n",
    "        print(\"manufacture year of a bike:\",self.manfacture_year)\n",
    "print(\"Details of car:\")      \n",
    "model=input(\"Enter a model of a car:\")\n",
    "color=input(\"Enter a color of a car:\")\n",
    "price=int(input(\"Enter a price of car:\"))\n",
    "\n",
    "manfacture_year=int(input(\"Enter a maufacture year of car:\"))\n",
    "\n",
    "print(\"Details of bike:\")      \n",
    "model=input(\"Enter a model of a bike:\")\n",
    "color=input(\"Enter a color of a bike:\")\n",
    "price=int(input(\"Enter a price of bike:\"))\n",
    "\n",
    "manfacture_year=int(input(\"Enter a maufacture year of bike:\"))\n",
    "\n",
    "\n",
    "\n",
    "car1=car(model,color,price,manfacture_year)\n",
    "car1.cars()\n",
    "\n",
    "bikes1=bike(model,color,price,manfacture_year)\n",
    "bikes1.bikes()\n",
    "\n",
    "        \n",
    "        "
   ]
  },
  {
   "cell_type": "code",
   "execution_count": null,
   "id": "f5c0e402",
   "metadata": {},
   "outputs": [],
   "source": []
  }
 ],
 "metadata": {
  "kernelspec": {
   "display_name": "Python 3 (ipykernel)",
   "language": "python",
   "name": "python3"
  },
  "language_info": {
   "codemirror_mode": {
    "name": "ipython",
    "version": 3
   },
   "file_extension": ".py",
   "mimetype": "text/x-python",
   "name": "python",
   "nbconvert_exporter": "python",
   "pygments_lexer": "ipython3",
   "version": "3.11.7"
  }
 },
 "nbformat": 4,
 "nbformat_minor": 5
}
