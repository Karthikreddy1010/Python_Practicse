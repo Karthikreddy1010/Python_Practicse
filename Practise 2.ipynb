{
 "cells": [
  {
   "cell_type": "markdown",
   "id": "ebf7d2c3",
   "metadata": {},
   "source": [
    "### 1.write the rules for creating  variables?\n",
    "\n",
    "- Variables will start with alphanumerics \n",
    "- Variables will not start with digits\n",
    "- Variables will not start with special characters except underscore\n",
    "- Variables will not be keywords\n",
    "- Variables is case sensitive"
   ]
  },
  {
   "cell_type": "markdown",
   "id": "88f699fe",
   "metadata": {},
   "source": [
    "### 2.What is typefunction?\n",
    "- Type function is used to known which data type of data we are using in code."
   ]
  },
  {
   "cell_type": "code",
   "execution_count": 43,
   "id": "035fc1a4",
   "metadata": {},
   "outputs": [
    {
     "name": "stdout",
     "output_type": "stream",
     "text": [
      "<class 'int'>\n"
     ]
    }
   ],
   "source": [
    "a=56\n",
    "print(type(a))"
   ]
  },
  {
   "cell_type": "markdown",
   "id": "deb9e3d4",
   "metadata": {},
   "source": [
    "### 3. What is difference between = and ==\n",
    "- = is used to assign values to variables\n",
    "- == is used to compare the two variables"
   ]
  },
  {
   "cell_type": "markdown",
   "id": "972257d0",
   "metadata": {},
   "source": [
    "### 4. What is the diff b/w mutable and immutable?\n",
    "\n",
    "- Mutable is we can modify the elements or values .\n",
    "\n",
    "- Ex=list,string,set\n",
    "\n",
    "- Immutable is we cannot modify the elements or values\n",
    "\n",
    "- Ex=tuple"
   ]
  },
  {
   "cell_type": "markdown",
   "id": "d8ee2f5f",
   "metadata": {},
   "source": [
    "### 5. write a python code to print first 10 natural numbers"
   ]
  },
  {
   "cell_type": "code",
   "execution_count": 44,
   "id": "b95e6864",
   "metadata": {},
   "outputs": [
    {
     "name": "stdout",
     "output_type": "stream",
     "text": [
      "1\n",
      "2\n",
      "3\n",
      "4\n",
      "5\n",
      "6\n",
      "7\n",
      "8\n",
      "9\n",
      "10\n"
     ]
    }
   ],
   "source": [
    "for i in range(1,11):\n",
    "    print(i)"
   ]
  },
  {
   "cell_type": "code",
   "execution_count": 45,
   "id": "5244ebad",
   "metadata": {},
   "outputs": [
    {
     "name": "stdout",
     "output_type": "stream",
     "text": [
      "1\n",
      "2\n",
      "3\n",
      "4\n",
      "5\n",
      "6\n",
      "7\n",
      "8\n",
      "9\n",
      "10\n"
     ]
    }
   ],
   "source": [
    "num=1\n",
    "while num<=10:\n",
    "    print(num)\n",
    "    num=num+1"
   ]
  },
  {
   "cell_type": "markdown",
   "id": "00bfcce4",
   "metadata": {},
   "source": [
    "### 5. Write a python program sum of first ten natural numbers"
   ]
  },
  {
   "cell_type": "code",
   "execution_count": 46,
   "id": "38602b89",
   "metadata": {},
   "outputs": [
    {
     "name": "stdout",
     "output_type": "stream",
     "text": [
      "1\n",
      "3\n",
      "6\n",
      "10\n",
      "15\n",
      "21\n",
      "28\n",
      "36\n",
      "45\n",
      "55\n"
     ]
    }
   ],
   "source": [
    "total=0\n",
    "for i in range(1,11):\n",
    "    total+=i\n",
    "    print(total)"
   ]
  },
  {
   "cell_type": "code",
   "execution_count": 47,
   "id": "fddc1eb2",
   "metadata": {},
   "outputs": [
    {
     "name": "stdout",
     "output_type": "stream",
     "text": [
      "1\n",
      "3\n",
      "6\n",
      "10\n",
      "15\n",
      "21\n",
      "28\n",
      "36\n",
      "45\n",
      "55\n"
     ]
    }
   ],
   "source": [
    "li=[1,2,3,4,5,6,7,8,9,10]\n",
    "su=0\n",
    "for i in li:\n",
    "    su+=i\n",
    "    print(su)"
   ]
  },
  {
   "cell_type": "markdown",
   "id": "dd583dfc",
   "metadata": {},
   "source": [
    "### 1. Write a python code to identify give number is prime or not?"
   ]
  },
  {
   "cell_type": "code",
   "execution_count": 73,
   "id": "e7e5025a",
   "metadata": {},
   "outputs": [
    {
     "name": "stdout",
     "output_type": "stream",
     "text": [
      "Enter a number:5\n",
      "Prime numbers\n"
     ]
    }
   ],
   "source": [
    "num=int(input(\"Enter a number:\"))\n",
    "\n",
    "for i in range(2,num):   # 1 is divisible by any number so I taken range from 2 and in range num -1 so it exclude one value so I taken num.\n",
    "    if num % i==0:\n",
    "        print(\"Not prime\")\n",
    "        break          # if one number is not prime , it has no reason to check other iterate\n",
    "else:\n",
    "    print(\"Prime numbers\")"
   ]
  },
  {
   "cell_type": "markdown",
   "id": "83603578",
   "metadata": {},
   "source": [
    "### 2. Write a python code for fibonacci series?"
   ]
  },
  {
   "cell_type": "code",
   "execution_count": 49,
   "id": "6cd59f10",
   "metadata": {},
   "outputs": [
    {
     "name": "stdout",
     "output_type": "stream",
     "text": [
      "Enter a number:6\n",
      "0\n",
      "1\n",
      "1\n",
      "2\n",
      "3\n",
      "5\n"
     ]
    }
   ],
   "source": [
    "# Fibonacci series means the sum of first number and second number\n",
    "\n",
    "# so, Intialized a=0,b=1 so, first n numbers then print a and b then a+b=1,then I used third variable to store the result \n",
    "\n",
    "n=int(input(\"Enter a number:\"))\n",
    "a=0\n",
    "b=1\n",
    "print(a)\n",
    "print(b)\n",
    "for i in range(2,n):   #I taken from 2 because, I used 0 and 1 so I taken range from 2\n",
    "    c=a+b\n",
    "    a=b\n",
    "    b=c\n",
    "    print(c)\n",
    "    "
   ]
  },
  {
   "cell_type": "markdown",
   "id": "170f5a3f",
   "metadata": {},
   "source": [
    "### 3. Write a python code to identify a factorial number for a given number?"
   ]
  },
  {
   "cell_type": "code",
   "execution_count": 50,
   "id": "a29357b3",
   "metadata": {},
   "outputs": [
    {
     "name": "stdout",
     "output_type": "stream",
     "text": [
      "Enter a number:6\n",
      "720\n"
     ]
    }
   ],
   "source": [
    "num=int(input(\"Enter a number:\"))\n",
    "\n",
    "factorial=1\n",
    "if num<0:\n",
    "    print(\"Does not exist\")\n",
    "elif num==0:\n",
    "    print(1)\n",
    "else:\n",
    "    for i in range(1,num+1):\n",
    "        factorial=factorial*i\n",
    "    print(factorial)"
   ]
  },
  {
   "cell_type": "markdown",
   "id": "d45ff859",
   "metadata": {},
   "source": [
    "### 4. Write a python code to print multiplication table of a given number?"
   ]
  },
  {
   "cell_type": "code",
   "execution_count": 51,
   "id": "66cdcf3d",
   "metadata": {},
   "outputs": [
    {
     "name": "stdout",
     "output_type": "stream",
     "text": [
      "Enter a number:6\n",
      "6 X 1 = 6\n",
      "6 X 2 = 12\n",
      "6 X 3 = 18\n",
      "6 X 4 = 24\n",
      "6 X 5 = 30\n",
      "6 X 6 = 36\n",
      "6 X 7 = 42\n",
      "6 X 8 = 48\n",
      "6 X 9 = 54\n",
      "6 X 10 = 60\n"
     ]
    }
   ],
   "source": [
    "num=int(input(\"Enter a number:\"))\n",
    "\n",
    "for i in range(1,11):\n",
    "    print(num,'X',i,'=',num*i)"
   ]
  },
  {
   "cell_type": "markdown",
   "id": "052e55f9",
   "metadata": {},
   "source": [
    "### 5. Write a python code to count total number of digits in a num?\n"
   ]
  },
  {
   "cell_type": "code",
   "execution_count": 52,
   "id": "42db1743",
   "metadata": {},
   "outputs": [
    {
     "name": "stdout",
     "output_type": "stream",
     "text": [
      "Enter a number:678\n",
      "3\n"
     ]
    }
   ],
   "source": [
    "n=int(input(\"Enter a number:\"))\n",
    "\n",
    "temp=0\n",
    "\n",
    "if n<0:\n",
    "    print(\"Does not exist\")\n",
    "elif n==0:\n",
    "    print(\"count of 0 is:\",1)\n",
    "else:\n",
    "    while n>0:    # to remove the last digit of number until loop is executed\n",
    "        n//=10\n",
    "        temp+=1\n",
    "print(temp)"
   ]
  },
  {
   "cell_type": "markdown",
   "id": "6430588c",
   "metadata": {},
   "source": [
    "### 6. Write a python code to print list in reverse using loop?"
   ]
  },
  {
   "cell_type": "code",
   "execution_count": 53,
   "id": "3d85a22c",
   "metadata": {},
   "outputs": [
    {
     "name": "stdout",
     "output_type": "stream",
     "text": [
      "9\n",
      "8\n",
      "10\n",
      "7\n",
      "6\n",
      "5\n",
      "4\n",
      "3\n",
      "2\n",
      "1\n"
     ]
    }
   ],
   "source": [
    "list1=[1,2,3,4,5,6,7,10,8,9]\n",
    "\n",
    "for i in list1[::-1]:    # negative index to print from reverse the numbers\n",
    "    \n",
    "       print(i)\n",
    "        \n",
    "\n",
    "#li=[4,5,6,7,8]\n",
    "#for i in reversed(li):\n",
    " #   print(i)"
   ]
  },
  {
   "cell_type": "code",
   "execution_count": 54,
   "id": "d58a71c6",
   "metadata": {},
   "outputs": [
    {
     "name": "stdout",
     "output_type": "stream",
     "text": [
      "[7, 6, 5, 4, 3, 2, 1]\n"
     ]
    }
   ],
   "source": [
    "li=[1,2,3,4,5,6,7]\n",
    "print(li[::-1])"
   ]
  },
  {
   "cell_type": "markdown",
   "id": "c248f03f",
   "metadata": {},
   "source": [
    "### 7. Write a python code to display from minus 10 to minus 1 using loop?"
   ]
  },
  {
   "cell_type": "code",
   "execution_count": 55,
   "id": "5e395e3a",
   "metadata": {},
   "outputs": [
    {
     "name": "stdout",
     "output_type": "stream",
     "text": [
      "-10\n",
      "-9\n",
      "-8\n",
      "-7\n",
      "-6\n",
      "-5\n",
      "-4\n",
      "-3\n",
      "-2\n",
      "-1\n"
     ]
    }
   ],
   "source": [
    "\n",
    "for i in range(-10,0):\n",
    "    \n",
    "    print(i)\n",
    "    \n",
    "    "
   ]
  },
  {
   "cell_type": "code",
   "execution_count": 56,
   "id": "7ba7bf86",
   "metadata": {},
   "outputs": [
    {
     "name": "stdout",
     "output_type": "stream",
     "text": [
      "-10\n",
      "-9\n",
      "-8\n",
      "-7\n",
      "-6\n",
      "-5\n",
      "-4\n",
      "-3\n",
      "-2\n",
      "-1\n"
     ]
    }
   ],
   "source": [
    "num=[-1,-2,-3,-4,-5,-6,-7,-8,-9,-10]\n",
    "\n",
    "for i in num[::-1]:\n",
    "    print(i)"
   ]
  },
  {
   "cell_type": "code",
   "execution_count": null,
   "id": "1965d0cd",
   "metadata": {},
   "outputs": [],
   "source": []
  }
 ],
 "metadata": {
  "kernelspec": {
   "display_name": "Python 3 (ipykernel)",
   "language": "python",
   "name": "python3"
  },
  "language_info": {
   "codemirror_mode": {
    "name": "ipython",
    "version": 3
   },
   "file_extension": ".py",
   "mimetype": "text/x-python",
   "name": "python",
   "nbconvert_exporter": "python",
   "pygments_lexer": "ipython3",
   "version": "3.11.7"
  }
 },
 "nbformat": 4,
 "nbformat_minor": 5
}
