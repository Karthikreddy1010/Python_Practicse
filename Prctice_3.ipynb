{
 "cells": [
  {
   "cell_type": "markdown",
   "id": "0e472692",
   "metadata": {},
   "source": [
    "### 1. i have a restaurant= vamsi resturant. in rest have  5 non veg and veg items if user ask anything from non veg or veg to display\n",
    "-  the item= please wait, if item is not there then item is not serving"
   ]
  },
  {
   "cell_type": "code",
   "execution_count": 1,
   "id": "baf76c9c",
   "metadata": {},
   "outputs": [
    {
     "name": "stdout",
     "output_type": "stream",
     "text": [
      "Restaurant\n",
      "This items are available in Veg: ['veg Biryani', 'Panner Biryani', 'Butter panner masala', 'Gobi fried rice', 'Panner fried rice']\n",
      "This items are available in Non-veg: ['Dum Biryani', 'Fish Biryani', 'Roobster', 'Berouz Chicken Birynai', 'kaju chicken Biryani']\n",
      "Enter:veg \n",
      "veg  This item is not serving right now\n"
     ]
    },
    {
     "data": {
      "text/plain": [
       "<function __main__.restaurant(veg, non_veg, user)>"
      ]
     },
     "execution_count": 1,
     "metadata": {},
     "output_type": "execute_result"
    }
   ],
   "source": [
    "print(\"Restaurant\")\n",
    "veg=['veg Biryani','Panner Biryani','Butter panner masala','Gobi fried rice','Panner fried rice']\n",
    "non_veg=['Dum Biryani','Fish Biryani','Roobster','Berouz Chicken Birynai','kaju chicken Biryani']\n",
    "\n",
    "print(\"This items are available in Veg:\",veg)\n",
    "print(\"This items are available in Non-veg:\",non_veg)\n",
    "\n",
    "def restaurant(veg,non_veg,user):\n",
    "    \n",
    "    if user in veg:\n",
    "        print(user,\"Item is available please wait sometime to serve\")\n",
    "    \n",
    "    elif user in non_veg:\n",
    "        print(user,\"Item is available please wait sometime to serve\")\n",
    "    else:\n",
    "        print(user,\"This item is not serving right now\")\n",
    "        \n",
    "    return restaurant\n",
    "\n",
    "user=input(\"Enter:\")\n",
    "restaurant(veg,non_veg,user)\n",
    "    "
   ]
  },
  {
   "cell_type": "markdown",
   "id": "cf81ad2b",
   "metadata": {},
   "source": [
    "### 2. write a python code to check if a  prime numbers or not  by using function"
   ]
  },
  {
   "cell_type": "code",
   "execution_count": 12,
   "id": "60dddbf9",
   "metadata": {},
   "outputs": [
    {
     "name": "stdout",
     "output_type": "stream",
     "text": [
      "Enter a number:5\n",
      "prime number\n"
     ]
    }
   ],
   "source": [
    "def prime_numbers(num):\n",
    "    for i in range(2,num):\n",
    "        if num % i==0:\n",
    "            print(\"Not prime\")\n",
    "            break\n",
    "    else:\n",
    "        print(\"prime number\")\n",
    "        \n",
    "\n",
    "num=int(input(\"Enter a number:\"))\n",
    "prime_numbers(num)\n"
   ]
  },
  {
   "cell_type": "markdown",
   "id": "8bad2c9a",
   "metadata": {},
   "source": [
    "### 3. write a python code to print the pattern 1 to 5 rows as - rows 1 number "
   ]
  },
  {
   "cell_type": "code",
   "execution_count": 3,
   "id": "7a97bf3e",
   "metadata": {},
   "outputs": [
    {
     "name": "stdout",
     "output_type": "stream",
     "text": [
      "1\n",
      "22\n",
      "333\n",
      "4444\n",
      "55555\n"
     ]
    }
   ],
   "source": [
    "for i in range(1,6):\n",
    "    for j in range(1,i+1):\n",
    "        print(i,end=\"\")\n",
    "    print()"
   ]
  },
  {
   "cell_type": "markdown",
   "id": "e1b16297",
   "metadata": {},
   "source": [
    "### 4. write a python code to convert a celisus to farhenit"
   ]
  },
  {
   "cell_type": "code",
   "execution_count": 2,
   "id": "5cd4db8b",
   "metadata": {},
   "outputs": [
    {
     "name": "stdout",
     "output_type": "stream",
     "text": [
      "Enter a celisus:70.5\n",
      "158.9\n"
     ]
    }
   ],
   "source": [
    "c=float(input(\"Enter a celisus:\"))\n",
    "\n",
    "f=(c * (9/5)) + 32\n",
    "\n",
    "print(f)\n",
    "\n",
    "# far to cel\n",
    "# c=(f-32)/(9.5)"
   ]
  },
  {
   "cell_type": "markdown",
   "id": "42b47f63",
   "metadata": {},
   "source": [
    "### 5. write a function to calculate simple interest"
   ]
  },
  {
   "cell_type": "code",
   "execution_count": 3,
   "id": "a48da1ce",
   "metadata": {},
   "outputs": [
    {
     "name": "stdout",
     "output_type": "stream",
     "text": [
      "Enter a amount:500\n",
      "Enter a rate of interset:0.4\n",
      "Enter a time period in years only:3\n",
      "Simple Intersest is: 600.0\n"
     ]
    }
   ],
   "source": [
    "amount=int(input(\"Enter a amount:\")) # principal amount\n",
    "rate= float(input(\"Enter a rate of interset:\")) # rate of interset\n",
    "time = int(input(\"Enter a time period in years only:\")) # time in years\n",
    "\n",
    "i=amount*rate*time  # i = interset\n",
    "\n",
    "print(\"Simple Intersest is:\",i)\n"
   ]
  },
  {
   "cell_type": "markdown",
   "id": "88b4e41e",
   "metadata": {},
   "source": [
    "### 6. write a python code to convert in to int to decimal by using function"
   ]
  },
  {
   "cell_type": "code",
   "execution_count": 4,
   "id": "2e1d3dde",
   "metadata": {},
   "outputs": [
    {
     "name": "stdout",
     "output_type": "stream",
     "text": [
      "Enter a number:678\n",
      "678.0\n"
     ]
    }
   ],
   "source": [
    "def convert(num):\n",
    "    c=float(num)\n",
    "    print(c)\n",
    "    \n",
    "    \n",
    "num=int(input(\"Enter a number:\"))\n",
    "convert(num)"
   ]
  },
  {
   "cell_type": "markdown",
   "id": "58f6d7ae",
   "metadata": {},
   "source": [
    "### 7. write a python code to check given character is digit or not"
   ]
  },
  {
   "cell_type": "code",
   "execution_count": 5,
   "id": "748f22bd",
   "metadata": {},
   "outputs": [
    {
     "name": "stdout",
     "output_type": "stream",
     "text": [
      "Enter a character:6\n",
      "Yes\n",
      "Enter a string:khgy796\n",
      "k Str is alpha\n",
      "h Str is alpha\n",
      "g Str is alpha\n",
      "y Str is alpha\n",
      "7 Str is digit\n",
      "9 Str is digit\n",
      "6 Str is digit\n"
     ]
    }
   ],
   "source": [
    "a=input(\"Enter a character:\")\n",
    "if a.isdigit():\n",
    "    print(\"Yes\")\n",
    "else:\n",
    "    print(\"No\")\n",
    "    \n",
    "    \n",
    "strs=input(\"Enter a string:\")\n",
    "\n",
    "for i in strs:\n",
    "    if i.isdigit():\n",
    "        print(i,\"Str is digit\")\n",
    "    elif i.isalpha():\n",
    "        print(i,\"Str is alpha\")\n",
    "        \n",
    "    else:\n",
    "        print(\"No\")\n",
    "    "
   ]
  },
  {
   "cell_type": "markdown",
   "id": "d51c3b1b",
   "metadata": {},
   "source": [
    "### 8. write a python code to check number is Amstrong or not"
   ]
  },
  {
   "cell_type": "code",
   "execution_count": 6,
   "id": "f8150c13",
   "metadata": {},
   "outputs": [
    {
     "name": "stdout",
     "output_type": "stream",
     "text": [
      "Enter a number:567\n",
      "684 Not Armstrong number\n"
     ]
    }
   ],
   "source": [
    "num=int(input(\"Enter a number:\"))\n",
    "\n",
    "digits = [int(digit) for digit in str(num)]\n",
    "count=0\n",
    "#print(digits)\n",
    "for i in digits:\n",
    "    i=i**3\n",
    "    #print(i)\n",
    "    count=count+i\n",
    "    #print(count)\n",
    "if count==num:\n",
    "    print(count,\"Armstrong number\")\n",
    "else:\n",
    "    print(count,\"Not Armstrong number\")"
   ]
  },
  {
   "cell_type": "code",
   "execution_count": 7,
   "id": "118e3161",
   "metadata": {},
   "outputs": [
    {
     "name": "stdout",
     "output_type": "stream",
     "text": [
      "Enter a number:789\n",
      "1584 Not Armstrong number\n"
     ]
    },
    {
     "data": {
      "text/plain": [
       "<function __main__.armstrong(num)>"
      ]
     },
     "execution_count": 7,
     "metadata": {},
     "output_type": "execute_result"
    }
   ],
   "source": [
    "def armstrong(num):\n",
    "    digits=[int(digit) for digit in str(num)]\n",
    "    count=0\n",
    "    for i in digits:\n",
    "        i=i**3\n",
    "        count=count+i\n",
    "    if count==num:\n",
    "        print(count,\"Armstrong number\")\n",
    "    else:\n",
    "        print(count,\"Not Armstrong number\")\n",
    "    return armstrong\n",
    "\n",
    "num=int(input(\"Enter a number:\"))\n",
    "armstrong(num)"
   ]
  },
  {
   "cell_type": "markdown",
   "id": "24814819",
   "metadata": {},
   "source": [
    "### 9. write a python code to check non-repeating of first occurence char in string"
   ]
  },
  {
   "cell_type": "code",
   "execution_count": 24,
   "id": "3672f020",
   "metadata": {},
   "outputs": [
    {
     "name": "stdout",
     "output_type": "stream",
     "text": [
      "Enter a string:karthik\n",
      "['k', 'a', 'r', 't', 'h', 'i', 'k']\n",
      "['i', 'h', 't', 'k', 'r', 'a']\n",
      "k\n",
      "a\n",
      "r\n",
      "t\n",
      "h\n",
      "i\n",
      "k\n"
     ]
    }
   ],
   "source": [
    "strs=input(\"Enter a string:\")\n",
    "li=[]\n",
    "for i in strs:\n",
    "    #print(i)\n",
    "    li.append(i)\n",
    "print(li)\n",
    "li=list(set(li))\n",
    "print(li)\n"
   ]
  },
  {
   "cell_type": "markdown",
   "id": "f935494c",
   "metadata": {},
   "source": [
    "### 10. write a python code to check greatest common divisior"
   ]
  },
  {
   "cell_type": "code",
   "execution_count": 9,
   "id": "bbfe89a6",
   "metadata": {},
   "outputs": [
    {
     "name": "stdout",
     "output_type": "stream",
     "text": [
      "Enter a number:12\n",
      "Enter a number:8\n",
      "GCD: 4\n"
     ]
    }
   ],
   "source": [
    "a=int(input(\"Enter a number:\"))\n",
    "b=int(input(\"Enter a number:\"))\n",
    "b=8\n",
    "while b>0:    # the greater number is divided by smaller number\n",
    "    a,b=b,(a%b)  # b will be greater than zero\n",
    "print(\"GCD:\",a)"
   ]
  },
  {
   "cell_type": "markdown",
   "id": "32638fb8",
   "metadata": {},
   "source": [
    "### 11. write a python code to remove duplicates from list"
   ]
  },
  {
   "cell_type": "code",
   "execution_count": 47,
   "id": "3314ffd9",
   "metadata": {},
   "outputs": [
    {
     "name": "stdout",
     "output_type": "stream",
     "text": [
      "[1, 3, 4, 5, 6, 6, 7]\n",
      "[1, 3, 4, 5, 6, 7]\n",
      "[1, 2, 3, 4, 5]\n"
     ]
    }
   ],
   "source": [
    "li=[1,3,4,5,6,6,7]\n",
    "li2=list(set(li))\n",
    "print(li)\n",
    "print(li2)\n",
    "# by using set method I removed duplicated values\n",
    "\n",
    "\n",
    "# Original list\n",
    "my_list = [1, 2, 2, 3, 4, 4, 5]\n",
    "\n",
    "unique_list = []\n",
    "for item in my_list:\n",
    "    if item not in unique_list:\n",
    "        unique_list.append(item)\n",
    "\n",
    "print(unique_list)\n"
   ]
  },
  {
   "cell_type": "markdown",
   "id": "9c565dad",
   "metadata": {},
   "source": [
    "### 12. write a python code to replace the string space by given character"
   ]
  },
  {
   "cell_type": "code",
   "execution_count": 38,
   "id": "40d92ad9",
   "metadata": {},
   "outputs": [
    {
     "name": "stdout",
     "output_type": "stream",
     "text": [
      " Python  is best program in the   world. \n",
      "@Python@@is@best@program@in@the@@@world.@\n"
     ]
    }
   ],
   "source": [
    "program = \" Python  is best program in the   world. \"\n",
    "\n",
    "pc=program.replace(\" \",\"@\")\n",
    "print(program)\n",
    "print(pc)"
   ]
  },
  {
   "cell_type": "markdown",
   "id": "5382f80f",
   "metadata": {},
   "source": [
    "### 13. write a python code to swap two number by not using third variable"
   ]
  },
  {
   "cell_type": "code",
   "execution_count": 7,
   "id": "908c6052",
   "metadata": {},
   "outputs": [
    {
     "name": "stdout",
     "output_type": "stream",
     "text": [
      "Enter a number:3\n",
      "Enter a number:6\n",
      "Before swapping of a: 3\n",
      "Before swapping of b: 6\n",
      "After swapping of a: 6\n",
      "After swapping of b: 3\n"
     ]
    }
   ],
   "source": [
    "a=int(input(\"Enter a number:\"))\n",
    "b=int(input(\"Enter a number:\"))\n",
    "print(\"Before swapping of a:\",a)\n",
    "print(\"Before swapping of b:\",b)\n",
    "a=a+b # a becomes 8\n",
    "b=a-b  # b becomes 8-5 b=3\n",
    "a=a-b  # a becomes 8-3 == 5\n",
    "\n",
    "print(\"After swapping of a:\",a)\n",
    "print(\"After swapping of b:\",b)"
   ]
  },
  {
   "cell_type": "markdown",
   "id": "a4519288",
   "metadata": {},
   "source": [
    "### 14. write a python code to add two integers, without using  any arithmetic operator"
   ]
  },
  {
   "cell_type": "code",
   "execution_count": 18,
   "id": "4b660751",
   "metadata": {},
   "outputs": [
    {
     "name": "stdout",
     "output_type": "stream",
     "text": [
      "Enter a number:5\n",
      "Enter a number:3\n",
      "7\n"
     ]
    }
   ],
   "source": [
    "a=int(input(\"Enter a number:\"))\n",
    "b=int(input(\"Enter a number:\"))\n",
    "\n",
    "if a<=0 or b<=0:\n",
    "    print(\"Does not exist\")\n",
    "res= a | b\n",
    "print(res)"
   ]
  },
  {
   "cell_type": "code",
   "execution_count": null,
   "id": "364eb359",
   "metadata": {},
   "outputs": [],
   "source": []
  }
 ],
 "metadata": {
  "kernelspec": {
   "display_name": "Python 3 (ipykernel)",
   "language": "python",
   "name": "python3"
  },
  "language_info": {
   "codemirror_mode": {
    "name": "ipython",
    "version": 3
   },
   "file_extension": ".py",
   "mimetype": "text/x-python",
   "name": "python",
   "nbconvert_exporter": "python",
   "pygments_lexer": "ipython3",
   "version": "3.11.7"
  }
 },
 "nbformat": 4,
 "nbformat_minor": 5
}
