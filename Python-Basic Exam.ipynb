{
 "cells": [
  {
   "cell_type": "markdown",
   "id": "be4c04bf",
   "metadata": {},
   "source": [
    "### 1. What is Python and why is it popular?\n",
    "- Python is a programming and oriented language.\n",
    "- Python has hundereds of libraries so ,it supports to multiple Applications and also Python is easy to understand.\n",
    "- Python is a high level programming language"
   ]
  },
  {
   "cell_type": "markdown",
   "id": "1eb8d7f1",
   "metadata": {},
   "source": [
    "### 2.What is an IDE and name a few popular Python IDEs?\n",
    "- IDE- IDE is Integrated Development Environment it, is a software application that provides to run the code or to test the code\n",
    "- Visual studio, Pycharm"
   ]
  },
  {
   "cell_type": "markdown",
   "id": "fc01369b",
   "metadata": {},
   "source": [
    "### 3.What are the rules for naming variables in Python?\n",
    "- There are 5 rules\n",
    "- 1. Variables start with alpha numeric\n",
    "- 2. Variables does not start with digits\n",
    "- 3. Variables does not start with special characters except underscore _\n",
    "- 4. Variables cannot be reserve keywords\n",
    "- 5. Variables is case sensitive"
   ]
  },
  {
   "cell_type": "markdown",
   "id": "219920d5",
   "metadata": {},
   "source": [
    "### 4.How do you assign multiple values to multiple variables in a single line?\n"
   ]
  },
  {
   "cell_type": "code",
   "execution_count": 1,
   "id": "ef5b0d21",
   "metadata": {},
   "outputs": [
    {
     "name": "stdout",
     "output_type": "stream",
     "text": [
      "1\n",
      "2\n",
      "3\n"
     ]
    }
   ],
   "source": [
    "x,y,z=1,2,3\n",
    "print(x)\n",
    "print(y)\n",
    "print(z)"
   ]
  },
  {
   "cell_type": "markdown",
   "id": "dae8cac8",
   "metadata": {},
   "source": [
    "### 5.Can you use Python keywords as variable names? Why or why not?\n",
    "\n",
    "- No we caanot use keywords as variables.\n",
    "- Keywords are used to define logic or condition, it is not possible to use keywords as variables\n"
   ]
  },
  {
   "cell_type": "markdown",
   "id": "6beabaf3",
   "metadata": {},
   "source": [
    "### 6.Why are comments important in programming?\n",
    "\n",
    "- Comments are used to understand the code\n",
    "\n",
    "- Because somebody can write the code for us then we cannot understand what they written so, comments will describe the code in words so, easily we can understand the logics in code"
   ]
  },
  {
   "cell_type": "markdown",
   "id": "29c10cd5",
   "metadata": {},
   "source": [
    "### 7.What are the basic data types in Python?\n",
    "- Basic data types\n",
    "- 1. INTEGERS\n",
    "- 2. FLOAT\n",
    "- 3. COMPLEX\n",
    "- 4. BOOLEAN"
   ]
  },
  {
   "cell_type": "markdown",
   "id": "b33124ae",
   "metadata": {},
   "source": [
    "### 8. How do you convert a string to an integer in Python?\n",
    "\n",
    "- No we cannot convert string to any other type of data in python\n"
   ]
  },
  {
   "cell_type": "markdown",
   "id": "e076da1d",
   "metadata": {},
   "source": [
    "### 9.What is the difference between int and float?\n",
    "\n",
    "- INT- INT means it has real numbers and whole number it will be in -infinity to +infinity\n",
    "- Example 0,1,2,3,----\n",
    "\n",
    "- Float- It has decimal numbers and also it will be in -infinity to + infinity\n",
    "- Example 2.3,4.5,6.7---"
   ]
  },
  {
   "cell_type": "markdown",
   "id": "18bd5333",
   "metadata": {},
   "source": [
    "### 10.How do you check the data type of a variable?\n",
    "- BY using type() we can check the data type of a variable"
   ]
  },
  {
   "cell_type": "code",
   "execution_count": 3,
   "id": "b8c2d733",
   "metadata": {},
   "outputs": [
    {
     "name": "stdout",
     "output_type": "stream",
     "text": [
      "<class 'int'>\n",
      "<class 'float'>\n",
      "<class 'bool'>\n",
      "<class 'complex'>\n"
     ]
    }
   ],
   "source": [
    "a=8\n",
    "print(type(a))\n",
    "b=4.5\n",
    "print(type(b))\n",
    "c=True\n",
    "print(type(c))\n",
    "d=4+3j\n",
    "print(type(d))"
   ]
  },
  {
   "cell_type": "markdown",
   "id": "c6e48af5",
   "metadata": {},
   "source": [
    "### 11.How do you add an element to a list?\n",
    "\n",
    "- By using insert and append functions we can add values in to list\n",
    "\n",
    "- insert at specify position\n",
    "\n",
    "- append will be end of list\n"
   ]
  },
  {
   "cell_type": "code",
   "execution_count": 5,
   "id": "1d046c8c",
   "metadata": {},
   "outputs": [],
   "source": [
    "a=[1,2,45,67]\n",
    "a.insert(1,99)"
   ]
  },
  {
   "cell_type": "code",
   "execution_count": 6,
   "id": "854e6063",
   "metadata": {},
   "outputs": [
    {
     "name": "stdout",
     "output_type": "stream",
     "text": [
      "[1, 99, 2, 45, 67]\n"
     ]
    }
   ],
   "source": [
    "print(a)"
   ]
  },
  {
   "cell_type": "code",
   "execution_count": 7,
   "id": "1a9a0b3d",
   "metadata": {},
   "outputs": [],
   "source": [
    "a.append(100)"
   ]
  },
  {
   "cell_type": "code",
   "execution_count": 8,
   "id": "4814a622",
   "metadata": {},
   "outputs": [
    {
     "name": "stdout",
     "output_type": "stream",
     "text": [
      "[1, 99, 2, 45, 67, 100]\n"
     ]
    }
   ],
   "source": [
    "print(a)"
   ]
  },
  {
   "cell_type": "markdown",
   "id": "166cc847",
   "metadata": {},
   "source": [
    "### 12.How do you create a tuple with one element?\n",
    "- we can create a tuple with one element by comma"
   ]
  },
  {
   "cell_type": "code",
   "execution_count": 10,
   "id": "7dfcaa13",
   "metadata": {},
   "outputs": [
    {
     "name": "stdout",
     "output_type": "stream",
     "text": [
      "(1,)\n"
     ]
    }
   ],
   "source": [
    "tup1=(1,)\n",
    "print(tup1)"
   ]
  },
  {
   "cell_type": "code",
   "execution_count": null,
   "id": "7e2f3c4e",
   "metadata": {},
   "outputs": [],
   "source": [
    "### 13.How do you access a value in a dictionary using a key?\n"
   ]
  },
  {
   "cell_type": "markdown",
   "id": "a4c5ce67",
   "metadata": {},
   "source": [
    "### 14.How do you access elements in a list?\n",
    "\n",
    "- we can access elements by using index and slicing methods"
   ]
  },
  {
   "cell_type": "code",
   "execution_count": 11,
   "id": "0c017a63",
   "metadata": {},
   "outputs": [
    {
     "name": "stdout",
     "output_type": "stream",
     "text": [
      "5\n",
      "9\n",
      "[3, 4, 5, 6, 7]\n",
      "[4, 5, 6, 7]\n"
     ]
    }
   ],
   "source": [
    "li1=[1,2,3,4,5,6,7,8,9,10]\n",
    "print(li1[4])\n",
    "print(li1[-2])\n",
    "print(li1[2:7])\n",
    "print(li1[-7:-3])"
   ]
  },
  {
   "cell_type": "markdown",
   "id": "670364bb",
   "metadata": {},
   "source": [
    "### 15. How do you access a character in a string?\n",
    "- We can access by index and slicing"
   ]
  },
  {
   "cell_type": "code",
   "execution_count": 12,
   "id": "b4138072",
   "metadata": {},
   "outputs": [
    {
     "name": "stdout",
     "output_type": "stream",
     "text": [
      "t\n",
      "r\n",
      "ython Pr\n",
      "\n"
     ]
    }
   ],
   "source": [
    "py=\"Python Programming\"\n",
    "print(py[2])\n",
    "print(py[-10])\n",
    "print(py[1:9])\n",
    "print(py[-5:-12])"
   ]
  },
  {
   "cell_type": "code",
   "execution_count": 13,
   "id": "438c129f",
   "metadata": {},
   "outputs": [
    {
     "name": "stdout",
     "output_type": "stream",
     "text": [
      "P\n",
      "y\n",
      "t\n",
      "h\n",
      "o\n",
      "n\n",
      " \n",
      "P\n",
      "r\n",
      "o\n",
      "g\n",
      "r\n",
      "a\n",
      "m\n",
      "m\n",
      "i\n",
      "n\n",
      "g\n"
     ]
    }
   ],
   "source": [
    "for i in py:\n",
    "    print(i)"
   ]
  },
  {
   "cell_type": "code",
   "execution_count": 14,
   "id": "5499f2af",
   "metadata": {},
   "outputs": [
    {
     "name": "stdout",
     "output_type": "stream",
     "text": [
      "CSK captain is Dhoni he played more than 200 ipl matches at 40\n"
     ]
    }
   ],
   "source": [
    "### 16.How do you format strings in Python?\n",
    "\n",
    "name=\"Dhoni\"\n",
    "age=\"40\"\n",
    "\n",
    "print(f\"CSK captain is {name} he played more than 200 ipl matches at {age}\")"
   ]
  },
  {
   "cell_type": "markdown",
   "id": "663a6d1c",
   "metadata": {},
   "source": [
    "### 17.What is a tuple and how is it different from a list?\n",
    "- tuple is immutable we cannot modify elements and has only two methods\n",
    "- list is mutable we can modify elements "
   ]
  },
  {
   "cell_type": "code",
   "execution_count": 16,
   "id": "12c6c630",
   "metadata": {},
   "outputs": [
    {
     "name": "stdout",
     "output_type": "stream",
     "text": [
      "(1, 3, 6, 89, 1, 3, 6, 89)\n",
      "(1, 2, 3, 4)\n"
     ]
    }
   ],
   "source": [
    "### 18.How do you concatenate two tuples?\n",
    "\n",
    "tup2=(1,3,6,89)\n",
    "tup3=(1,2,3,4)\n",
    "print(tup2*2)\n",
    "print(tup3*1)\n",
    "\n",
    "## we cannot concatenate two tuples"
   ]
  },
  {
   "cell_type": "code",
   "execution_count": 17,
   "id": "af07159a",
   "metadata": {},
   "outputs": [
    {
     "name": "stdout",
     "output_type": "stream",
     "text": [
      "{1, 34, 500, 56, 89}\n"
     ]
    }
   ],
   "source": [
    "### 22.How do you add an element to a set?\n",
    "set1={1,34,56,89}\n",
    "set1.add(500)\n",
    "print(set1)"
   ]
  },
  {
   "cell_type": "code",
   "execution_count": 18,
   "id": "573838fd",
   "metadata": {},
   "outputs": [
    {
     "name": "stdout",
     "output_type": "stream",
     "text": [
      "{1, 34, 56, 89}\n"
     ]
    }
   ],
   "source": [
    "### 23.How do you remove an element from a set?\n",
    "set1.remove(500)\n",
    "print(set1)\n"
   ]
  },
  {
   "cell_type": "code",
   "execution_count": 19,
   "id": "c55f1447",
   "metadata": {},
   "outputs": [
    {
     "name": "stdout",
     "output_type": "stream",
     "text": [
      "{1, 34, 56}\n"
     ]
    }
   ],
   "source": [
    "set1.discard(89)\n",
    "print(set1)"
   ]
  },
  {
   "cell_type": "markdown",
   "id": "69e2842d",
   "metadata": {},
   "source": [
    "### 24.What are the common set operations in Python?\n",
    "- They are three three types\n",
    "- 1. union\n",
    "-2. Intersection\n",
    "-3. Difference"
   ]
  },
  {
   "cell_type": "code",
   "execution_count": 21,
   "id": "352eb4c6",
   "metadata": {},
   "outputs": [
    {
     "name": "stdout",
     "output_type": "stream",
     "text": [
      "3\n"
     ]
    }
   ],
   "source": [
    "### 25.Write a Python program to find the index of an element in a tuple?\n",
    "tup3=(1,2,4,56,78)\n",
    "print(tup3.index(56))"
   ]
  },
  {
   "cell_type": "code",
   "execution_count": null,
   "id": "06a69cea",
   "metadata": {},
   "outputs": [],
   "source": []
  }
 ],
 "metadata": {
  "kernelspec": {
   "display_name": "Python 3 (ipykernel)",
   "language": "python",
   "name": "python3"
  },
  "language_info": {
   "codemirror_mode": {
    "name": "ipython",
    "version": 3
   },
   "file_extension": ".py",
   "mimetype": "text/x-python",
   "name": "python",
   "nbconvert_exporter": "python",
   "pygments_lexer": "ipython3",
   "version": "3.11.7"
  }
 },
 "nbformat": 4,
 "nbformat_minor": 5
}
